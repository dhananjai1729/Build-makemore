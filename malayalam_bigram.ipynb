{
 "cells": [
  {
   "cell_type": "markdown",
   "metadata": {},
   "source": [
    "# Import Libraries"
   ]
  },
  {
   "cell_type": "code",
   "execution_count": 1,
   "metadata": {},
   "outputs": [
    {
     "name": "stderr",
     "output_type": "stream",
     "text": [
      "/opt/anaconda3/envs/Neural_network_build_GPT/lib/python3.12/site-packages/tqdm/auto.py:21: TqdmWarning: IProgress not found. Please update jupyter and ipywidgets. See https://ipywidgets.readthedocs.io/en/stable/user_install.html\n",
      "  from .autonotebook import tqdm as notebook_tqdm\n"
     ]
    }
   ],
   "source": [
    "import pandas as pd\n",
    "import torch\n",
    "import datasets\n"
   ]
  },
  {
   "cell_type": "code",
   "execution_count": 2,
   "metadata": {},
   "outputs": [
    {
     "name": "stderr",
     "output_type": "stream",
     "text": [
      "Generating train split: 100%|██████████| 27814150/27814150 [00:23<00:00, 1190566.90 examples/s]\n"
     ]
    }
   ],
   "source": [
    "from datasets import load_dataset\n",
    "\n",
    "# Load the dataset\n",
    "dataset = load_dataset(\"santhosh/english-malayalam-names\")\n",
    "\n",
    "# Access specific splits\n",
    "train_split = dataset['train']"
   ]
  },
  {
   "cell_type": "code",
   "execution_count": 3,
   "metadata": {},
   "outputs": [
    {
     "data": {
      "text/plain": [
       "Dataset({\n",
       "    features: ['ml', 'en'],\n",
       "    num_rows: 27814150\n",
       "})"
      ]
     },
     "execution_count": 3,
     "metadata": {},
     "output_type": "execute_result"
    }
   ],
   "source": [
    "train_split"
   ]
  },
  {
   "cell_type": "code",
   "execution_count": 5,
   "metadata": {},
   "outputs": [
    {
     "name": "stdout",
     "output_type": "stream",
     "text": [
      "{'ml': ['ആർതർ റോബിൻ', 'മേരി ജാൻസി', 'മേരി ലക്സി', 'ജെറോ എം.എക്സ്', 'മില്ലററ് ജെറോം', 'ജെസീറ്റമോൾ ജെറോ', 'ആന്റണി', 'മേഴ്സി', 'ജോൺസൺ', 'വിൻസെന്റ്'], 'en': ['Arther Robin', 'Mary  Jancy', 'Mary  Luxy', 'Jero M.X', 'Millett Jerom', 'Jeseettamol Jero', 'Antony', 'Mercy', 'Johnson', 'Vincent']}\n"
     ]
    }
   ],
   "source": [
    "print(train_split[:10])"
   ]
  },
  {
   "cell_type": "code",
   "execution_count": 14,
   "metadata": {},
   "outputs": [],
   "source": [
    "words = train_split['ml'][:32000]"
   ]
  },
  {
   "cell_type": "code",
   "execution_count": 26,
   "metadata": {},
   "outputs": [
    {
     "name": "stdout",
     "output_type": "stream",
     "text": [
      "['ഀ', 'ഁ', 'ം', 'ഃ', 'ഄ', 'അ', 'ആ', 'ഇ', 'ഈ', 'ഉ', 'ഊ', 'ഋ', 'ഌ', '\\u0d0d', 'എ', 'ഏ', 'ഐ', '\\u0d11', 'ഒ', 'ഓ', 'ഔ', 'ക', 'ഖ', 'ഗ', 'ഘ', 'ങ', 'ച', 'ഛ', 'ജ', 'ഝ', 'ഞ', 'ട', 'ഠ', 'ഡ', 'ഢ', 'ണ', 'ത', 'ഥ', 'ദ', 'ധ', 'ന', 'ഩ', 'പ', 'ഫ', 'ബ', 'ഭ', 'മ', 'യ', 'ര', 'റ', 'ല', 'ള', 'ഴ', 'വ', 'ശ', 'ഷ', 'സ', 'ഹ', 'ഺ', '഻', '഼', 'ഽ', 'ാ', 'ി', 'ീ', 'ു', 'ൂ', 'ൃ', 'ൄ', '\\u0d45', 'െ', 'േ', 'ൈ', '\\u0d49', 'ൊ', 'ോ', 'ൌ', '്', 'ൎ', '൏', '\\u0d50', '\\u0d51', '\\u0d52', '\\u0d53', 'ൔ', 'ൕ', 'ൖ', 'ൗ', '൘', '൙', '൚', '൛', '൜', '൝', '൞', 'ൟ', 'ൠ', 'ൡ', 'ൢ', 'ൣ', '\\u0d64', '\\u0d65', '൦', '൧', '൨', '൩', '൪', '൫', '൬', '൭', '൮', '൯', '൰', '൱', '൲', '൳', '൴', '൵', '൶', '൷', '൸', '൹', 'ൺ', 'ൻ', 'ർ', 'ൽ', 'ൾ', 'ൿ']\n"
     ]
    },
    {
     "data": {
      "text/plain": [
       "128"
      ]
     },
     "execution_count": 26,
     "metadata": {},
     "output_type": "execute_result"
    }
   ],
   "source": [
    "malayalam_characters = [chr(i) for i in range(0x0D00, 0x0D80)]\n",
    "print(malayalam_characters)\n",
    "len(malayalam_characters)"
   ]
  },
  {
   "cell_type": "code",
   "execution_count": 40,
   "metadata": {},
   "outputs": [],
   "source": [
    "# filter words with only malayalam characters\n",
    "filtered_words = [word for word in filtered_words if all(ch in malayalam_characters for ch in word)]\n"
   ]
  },
  {
   "cell_type": "code",
   "execution_count": 41,
   "metadata": {},
   "outputs": [],
   "source": [
    "filtered_words = list(set(filtered_words))"
   ]
  },
  {
   "cell_type": "code",
   "execution_count": 42,
   "metadata": {},
   "outputs": [],
   "source": [
    "words = filtered_words"
   ]
  },
  {
   "cell_type": "code",
   "execution_count": 43,
   "metadata": {},
   "outputs": [],
   "source": [
    "# itos and stoi for malayalam\n",
    "chars = sorted(list(set(''.join(words))))\n",
    "stoi = {ch:i+1 for i,ch in enumerate(chars)}\n",
    "stoi['.'] = 0\n",
    "itos = {i:ch for ch,i in stoi.items()}\n"
   ]
  },
  {
   "cell_type": "code",
   "execution_count": 45,
   "metadata": {},
   "outputs": [
    {
     "data": {
      "text/plain": [
       "{1: 'ം',\n",
       " 2: 'അ',\n",
       " 3: 'ആ',\n",
       " 4: 'ഇ',\n",
       " 5: 'ഈ',\n",
       " 6: 'ഉ',\n",
       " 7: 'ഊ',\n",
       " 8: 'ഋ',\n",
       " 9: 'എ',\n",
       " 10: 'ഏ',\n",
       " 11: 'ഐ',\n",
       " 12: 'ഒ',\n",
       " 13: 'ഓ',\n",
       " 14: 'ഔ',\n",
       " 15: 'ക',\n",
       " 16: 'ഖ',\n",
       " 17: 'ഗ',\n",
       " 18: 'ഘ',\n",
       " 19: 'ങ',\n",
       " 20: 'ച',\n",
       " 21: 'ഛ',\n",
       " 22: 'ജ',\n",
       " 23: 'ഞ',\n",
       " 24: 'ട',\n",
       " 25: 'ഠ',\n",
       " 26: 'ഡ',\n",
       " 27: 'ഢ',\n",
       " 28: 'ണ',\n",
       " 29: 'ത',\n",
       " 30: 'ഥ',\n",
       " 31: 'ദ',\n",
       " 32: 'ധ',\n",
       " 33: 'ന',\n",
       " 34: 'പ',\n",
       " 35: 'ഫ',\n",
       " 36: 'ബ',\n",
       " 37: 'ഭ',\n",
       " 38: 'മ',\n",
       " 39: 'യ',\n",
       " 40: 'ര',\n",
       " 41: 'റ',\n",
       " 42: 'ല',\n",
       " 43: 'ള',\n",
       " 44: 'ഴ',\n",
       " 45: 'വ',\n",
       " 46: 'ശ',\n",
       " 47: 'ഷ',\n",
       " 48: 'സ',\n",
       " 49: 'ഹ',\n",
       " 50: 'ാ',\n",
       " 51: 'ി',\n",
       " 52: 'ീ',\n",
       " 53: 'ു',\n",
       " 54: 'ൂ',\n",
       " 55: 'ൃ',\n",
       " 56: 'െ',\n",
       " 57: 'േ',\n",
       " 58: 'ൈ',\n",
       " 59: 'ൊ',\n",
       " 60: 'ോ',\n",
       " 61: '്',\n",
       " 62: 'ൗ',\n",
       " 63: '൪',\n",
       " 64: '൯',\n",
       " 65: 'ൺ',\n",
       " 66: 'ൻ',\n",
       " 67: 'ർ',\n",
       " 68: 'ൽ',\n",
       " 69: 'ൾ',\n",
       " 0: '.'}"
      ]
     },
     "execution_count": 45,
     "metadata": {},
     "output_type": "execute_result"
    }
   ],
   "source": [
    "itos"
   ]
  },
  {
   "cell_type": "code",
   "execution_count": 46,
   "metadata": {},
   "outputs": [
    {
     "name": "stdout",
     "output_type": "stream",
     "text": [
      "number of examples:  39710\n"
     ]
    }
   ],
   "source": [
    "# create the dataset\n",
    "xs, ys = [], []\n",
    "for w in words:\n",
    "  chs = ['.'] + list(w) + ['.']\n",
    "  for ch1, ch2 in zip(chs, chs[1:]):\n",
    "    ix1 = stoi[ch1]\n",
    "    ix2 = stoi[ch2]\n",
    "    xs.append(ix1)\n",
    "    ys.append(ix2)\n",
    "xs = torch.tensor(xs)\n",
    "ys = torch.tensor(ys)\n",
    "num = xs.nelement()\n",
    "print('number of examples: ', num)"
   ]
  },
  {
   "cell_type": "code",
   "execution_count": 48,
   "metadata": {},
   "outputs": [],
   "source": [
    "# initialize the 'network'\n",
    "g = torch.Generator().manual_seed(2147483647)\n",
    "W = torch.randn((len(itos), len(itos)), generator=g, requires_grad=True)"
   ]
  },
  {
   "cell_type": "code",
   "execution_count": 51,
   "metadata": {},
   "outputs": [
    {
     "name": "stdout",
     "output_type": "stream",
     "text": [
      "4.817780494689941\n",
      "4.538967132568359\n",
      "4.297922611236572\n",
      "4.097937107086182\n",
      "3.947826623916626\n",
      "3.8331379890441895\n",
      "3.737821578979492\n",
      "3.6575450897216797\n",
      "3.5893359184265137\n",
      "3.5306057929992676\n",
      "3.479309320449829\n",
      "3.433966875076294\n",
      "3.3935365676879883\n",
      "3.3572633266448975\n",
      "3.3245744705200195\n",
      "3.2950103282928467\n",
      "3.2681801319122314\n",
      "3.2437453269958496\n",
      "3.2214109897613525\n",
      "3.2009198665618896\n",
      "3.182051181793213\n",
      "3.1646173000335693\n",
      "3.148456335067749\n",
      "3.133432149887085\n",
      "3.1194264888763428\n",
      "3.106337070465088\n",
      "3.094075918197632\n",
      "3.0825631618499756\n",
      "3.0717296600341797\n",
      "3.0615131855010986\n",
      "3.0518598556518555\n",
      "3.042719841003418\n",
      "3.034050703048706\n",
      "3.0258138179779053\n",
      "3.017975091934204\n",
      "3.0105044841766357\n",
      "3.0033743381500244\n",
      "2.99656081199646\n",
      "2.990041494369507\n",
      "2.9837963581085205\n",
      "2.9778082370758057\n",
      "2.972059965133667\n",
      "2.9665369987487793\n",
      "2.9612252712249756\n",
      "2.9561119079589844\n",
      "2.951186418533325\n",
      "2.9464364051818848\n",
      "2.941852569580078\n",
      "2.9374263286590576\n",
      "2.93314790725708\n",
      "2.9290103912353516\n",
      "2.9250054359436035\n",
      "2.9211268424987793\n",
      "2.9173684120178223\n",
      "2.9137234687805176\n",
      "2.910186529159546\n",
      "2.9067533016204834\n",
      "2.9034175872802734\n",
      "2.9001760482788086\n",
      "2.897024154663086\n",
      "2.8939573764801025\n",
      "2.89097261428833\n",
      "2.8880655765533447\n",
      "2.8852343559265137\n",
      "2.882474660873413\n",
      "2.8797833919525146\n",
      "2.8771588802337646\n",
      "2.874598264694214\n",
      "2.872098445892334\n",
      "2.8696577548980713\n",
      "2.8672735691070557\n",
      "2.8649439811706543\n",
      "2.8626675605773926\n",
      "2.8604419231414795\n",
      "2.858264923095703\n",
      "2.856135368347168\n",
      "2.8540518283843994\n",
      "2.8520126342773438\n",
      "2.8500168323516846\n",
      "2.8480615615844727\n",
      "2.846146821975708\n",
      "2.844270944595337\n",
      "2.842433214187622\n",
      "2.8406317234039307\n",
      "2.8388655185699463\n",
      "2.8371341228485107\n",
      "2.8354361057281494\n",
      "2.833770275115967\n",
      "2.832136392593384\n",
      "2.830533504486084\n",
      "2.8289597034454346\n",
      "2.8274154663085938\n",
      "2.825899362564087\n",
      "2.824410915374756\n",
      "2.822948694229126\n",
      "2.8215134143829346\n",
      "2.8201026916503906\n",
      "2.8187170028686523\n",
      "2.8173556327819824\n",
      "2.8160178661346436\n",
      "2.8147027492523193\n",
      "2.8134100437164307\n",
      "2.8121395111083984\n",
      "2.8108904361724854\n",
      "2.809661626815796\n",
      "2.808453321456909\n",
      "2.807265043258667\n",
      "2.806095838546753\n",
      "2.804945945739746\n",
      "2.8038148880004883\n",
      "2.8027007579803467\n",
      "2.801605463027954\n",
      "2.8005268573760986\n",
      "2.7994651794433594\n",
      "2.798419952392578\n",
      "2.797391414642334\n",
      "2.7963783740997314\n",
      "2.7953803539276123\n",
      "2.7943978309631348\n",
      "2.7934303283691406\n",
      "2.7924768924713135\n",
      "2.7915380001068115\n",
      "2.7906129360198975\n",
      "2.789701223373413\n",
      "2.7888026237487793\n",
      "2.787917375564575\n",
      "2.7870447635650635\n",
      "2.786184310913086\n",
      "2.7853362560272217\n",
      "2.7845005989074707\n",
      "2.7836761474609375\n",
      "2.782863140106201\n",
      "2.7820615768432617\n",
      "2.781270980834961\n",
      "2.7804908752441406\n",
      "2.77972149848938\n",
      "2.7789626121520996\n",
      "2.7782137393951416\n",
      "2.777475118637085\n",
      "2.7767460346221924\n",
      "2.7760257720947266\n",
      "2.775315999984741\n",
      "2.7746150493621826\n",
      "2.773922920227051\n",
      "2.7732396125793457\n",
      "2.7725651264190674\n",
      "2.7718989849090576\n",
      "2.7712411880493164\n",
      "2.7705917358398438\n",
      "2.7699501514434814\n",
      "2.7693164348602295\n",
      "2.768690347671509\n",
      "2.7680721282958984\n",
      "2.767461061477661\n",
      "2.766857147216797\n",
      "2.766260862350464\n",
      "2.765671968460083\n",
      "2.7650887966156006\n",
      "2.7645132541656494\n",
      "2.763944387435913\n",
      "2.7633814811706543\n",
      "2.7628252506256104\n",
      "2.7622756958007812\n",
      "2.761732578277588\n",
      "2.761195182800293\n",
      "2.7606632709503174\n",
      "2.7601377964019775\n",
      "2.759618043899536\n",
      "2.7591042518615723\n",
      "2.7585959434509277\n",
      "2.7580926418304443\n",
      "2.7575955390930176\n",
      "2.757103204727173\n",
      "2.7566163539886475\n",
      "2.756134510040283\n",
      "2.7556581497192383\n",
      "2.755186080932617\n",
      "2.7547194957733154\n",
      "2.754257917404175\n",
      "2.753800630569458\n",
      "2.7533481121063232\n",
      "2.7529006004333496\n",
      "2.7524569034576416\n",
      "2.752018451690674\n",
      "2.7515838146209717\n",
      "2.7511537075042725\n",
      "2.7507283687591553\n",
      "2.7503066062927246\n",
      "2.749889373779297\n",
      "2.7494757175445557\n",
      "2.7490668296813965\n",
      "2.7486610412597656\n",
      "2.7482597827911377\n",
      "2.7478623390197754\n",
      "2.7474684715270996\n",
      "2.7470788955688477\n",
      "2.746692419052124\n",
      "2.746309995651245\n",
      "2.7459304332733154\n",
      "2.7455549240112305\n"
     ]
    }
   ],
   "source": [
    "import torch.nn.functional as F\n",
    "# gradient descent\n",
    "for k in range(200):\n",
    "  \n",
    "  # forward pass\n",
    "  xenc = F.one_hot(xs, num_classes=len(itos)).float() # input to the network: one-hot encoding\n",
    "  logits = xenc @ W # predict log-counts\n",
    "  counts = logits.exp() # counts, equivalent to N\n",
    "  probs = counts / counts.sum(1, keepdims=True) # probabilities for next character\n",
    "  loss = -probs[torch.arange(num), ys].log().mean() + 0.01*(W**2).mean()\n",
    "  print(loss.item())\n",
    "  \n",
    "  # backward pass\n",
    "  W.grad = None # set to zero the gradient\n",
    "  loss.backward()\n",
    "  \n",
    "  # update\n",
    "  W.data += -50 * W.grad"
   ]
  },
  {
   "cell_type": "code",
   "execution_count": 54,
   "metadata": {},
   "outputs": [
    {
     "name": "stdout",
     "output_type": "stream",
     "text": [
      "ആഋ൯ഓമാ.\n",
      "ക്രമോഷാഥഠഠത.\n",
      "നോഎ്.\n",
      "ബിത.\n",
      "റോ.\n",
      "നധാനി൯ൽസഫഥനബോൾ.\n",
      "ലുന്ദീത്പൂബലിൻ.\n",
      "സ്.\n",
      "ക്ട്യൻസോൺസികി.\n",
      "ഉവർ.\n",
      "ശ്ഷറ്.\n",
      "ബീൻ.\n",
      "ജിഫൗരാസീൻസ്സ്മ്ട്.\n",
      "സ്രോയബി.\n",
      "ഷിബി.\n",
      "എഗിബി.\n",
      "ബ്സ്.\n",
      "മീദദീപ്നോകുമീൻ.\n",
      "രാസി.\n",
      "വീദ.\n"
     ]
    }
   ],
   "source": [
    "# finally, sample from the 'neural net' model\n",
    "g = torch.Generator().manual_seed(2147483647)\n",
    "\n",
    "for i in range(20):\n",
    "  \n",
    "  out = []\n",
    "  ix = 0\n",
    "  while True:\n",
    "    \n",
    "    # ----------\n",
    "    # BEFORE:\n",
    "    #p = P[ix]\n",
    "    # ----------\n",
    "    # NOW:\n",
    "    xenc = F.one_hot(torch.tensor([ix]), num_classes=len(itos)).float()\n",
    "    logits = xenc @ W # predict log-counts\n",
    "    counts = logits.exp() # counts, equivalent to N\n",
    "    p = counts / counts.sum(1, keepdims=True) # probabilities for next character\n",
    "    # ----------\n",
    "    \n",
    "    ix = torch.multinomial(p, num_samples=1, replacement=True, generator=g).item()\n",
    "    out.append(itos[ix])\n",
    "    if ix == 0:\n",
    "      break\n",
    "  print(''.join(out))"
   ]
  },
  {
   "cell_type": "code",
   "execution_count": null,
   "metadata": {},
   "outputs": [],
   "source": []
  }
 ],
 "metadata": {
  "kernelspec": {
   "display_name": "Neural_network_build_GPT",
   "language": "python",
   "name": "python3"
  },
  "language_info": {
   "codemirror_mode": {
    "name": "ipython",
    "version": 3
   },
   "file_extension": ".py",
   "mimetype": "text/x-python",
   "name": "python",
   "nbconvert_exporter": "python",
   "pygments_lexer": "ipython3",
   "version": "3.12.8"
  }
 },
 "nbformat": 4,
 "nbformat_minor": 2
}
